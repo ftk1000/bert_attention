{
 "cells": [
  {
   "cell_type": "markdown",
   "metadata": {},
   "source": [
    "### bert_find_word.ipynb\n",
    "\n",
    "original source:  https://huggingface.co/transformers/quickstart.html\n",
    "\n",
    "2020.01.10"
   ]
  },
  {
   "cell_type": "code",
   "execution_count": 1,
   "metadata": {},
   "outputs": [],
   "source": [
    "import torch\n",
    "from transformers import BertTokenizer, BertModel, BertForMaskedLM\n",
    "\n",
    "# OPTIONAL: if you want to have more information on what's happening under the hood, activate the logger as follows\n",
    "# import logging\n",
    "# logging.basicConfig(level=logging.INFO)"
   ]
  },
  {
   "cell_type": "code",
   "execution_count": 14,
   "metadata": {},
   "outputs": [
    {
     "name": "stdout",
     "output_type": "stream",
     "text": [
      "torch version:  1.3.1\n"
     ]
    }
   ],
   "source": [
    "print(\"torch version: \", torch.__version__)"
   ]
  },
  {
   "cell_type": "code",
   "execution_count": 2,
   "metadata": {},
   "outputs": [],
   "source": [
    "# Load pre-trained model tokenizer (vocabulary)\n",
    "tokenizer = BertTokenizer.from_pretrained('bert-base-uncased')\n",
    "# Load pre-trained model (weights)\n",
    "model = BertForMaskedLM.from_pretrained('bert-base-uncased')\n",
    "# model.eval()"
   ]
  },
  {
   "cell_type": "code",
   "execution_count": 3,
   "metadata": {},
   "outputs": [],
   "source": [
    "text = \"[CLS] Who was Jim Henson ? [SEP] Jim Henson was a puppeteer [SEP]\""
   ]
  },
  {
   "cell_type": "code",
   "execution_count": 4,
   "metadata": {},
   "outputs": [],
   "source": [
    "# return tokenized text where 'XX' is replaced by '[MASK]'\n",
    "def replace_xx_by_MASK(text):\n",
    "    tt = tokenizer.tokenize(text)\n",
    "    for i in range(len(tt)):\n",
    "        if tt[i]=='xx':\n",
    "            tt[i] = '[MASK]'\n",
    "            masked_idx=i\n",
    "            break\n",
    "    return tt  , masked_idx"
   ]
  },
  {
   "cell_type": "code",
   "execution_count": 5,
   "metadata": {},
   "outputs": [],
   "source": [
    "# assign integer to each token according to its corresponding sentence\n",
    "def get_segments_ids(tt): \n",
    "    beg=end=0\n",
    "    code=0\n",
    "    segm_ids=[]\n",
    "\n",
    "    for c in tt:\n",
    "        end+=1\n",
    "        if c=='[SEP]':\n",
    "            len = (end-beg)\n",
    "            segm = [code]*len\n",
    "            #print(tt[beg:end], segm )\n",
    "            segm_ids += segm\n",
    "            code+=1\n",
    "            beg=end\n",
    "    return segm_ids  "
   ]
  },
  {
   "cell_type": "code",
   "execution_count": 6,
   "metadata": {},
   "outputs": [],
   "source": [
    "def bert_find_word(text):\n",
    "    tokenized_text , masked_index = replace_xx_by_MASK(text)\n",
    "    # print(tokenized_text)\n",
    "    # print(' '.join(tokenized_text), masked_index)\n",
    "    segments_ids = get_segments_ids(tokenized_text)\n",
    "    # print(segments_ids)\n",
    "    # Convert token to vocabulary indices\n",
    "    indexed_tokens = tokenizer.convert_tokens_to_ids(tokenized_text)\n",
    "    # print(indexed_tokens)\n",
    "    \n",
    "    # Convert inputs to PyTorch tensors\n",
    "    tokens_tensor = torch.tensor([indexed_tokens])\n",
    "    segments_tensors = torch.tensor([segments_ids])\n",
    "    # segments_tensors\n",
    "    \n",
    "    # Predict all tokens\n",
    "    with torch.no_grad():\n",
    "        outputs = model(tokens_tensor, token_type_ids=segments_tensors)\n",
    "        predictions = outputs[0]\n",
    "    # predictions\n",
    "    \n",
    "    # confirm we were able to predict 'henson'\n",
    "    predicted_index = torch.argmax(predictions[0, masked_index]).item()\n",
    "    predicted_token = tokenizer.convert_ids_to_tokens([predicted_index])[0]\n",
    "    \n",
    "    return predicted_token"
   ]
  },
  {
   "cell_type": "code",
   "execution_count": 7,
   "metadata": {},
   "outputs": [],
   "source": [
    "text = \"[CLS] Who was Jim Henson ? [SEP] Jim Henson was a puppeteer [SEP]\"\n",
    "\n",
    "text = \"[CLS] Who was Jim Henson ? [SEP] Jim XX was a puppeteer [SEP]\"\n",
    "\n",
    "\n",
    "#text =  \"[CLS] Alice was looking into the XX hall [SEP] Rabit looked at his watch [SEP]\"\n",
    "#text = \"[CLS] Who is XX's wife ? [SEP] Putin is president of Russia [SEP]\" \n",
    "\n",
    "\n",
    "\n",
    "#text = \"[CLS] Putin is president of Russia [SEP] Who is XX's wife ? [SEP]\" \n",
    "text = \"[CLS] Python is a very good programming XX for natural language processing [SEP]\""
   ]
  },
  {
   "cell_type": "code",
   "execution_count": 8,
   "metadata": {},
   "outputs": [
    {
     "name": "stdout",
     "output_type": "stream",
     "text": [
      "[CLS] Python is a very good programming XX for natural language processing [SEP]\n",
      "Bert thinks 'XX' =  language\n"
     ]
    }
   ],
   "source": [
    "print(text)\n",
    "predictedword = bert_find_word(text)\n",
    "print(\"Bert thinks 'XX' = \", predictedword)"
   ]
  },
  {
   "cell_type": "code",
   "execution_count": null,
   "metadata": {},
   "outputs": [],
   "source": []
  },
  {
   "cell_type": "code",
   "execution_count": null,
   "metadata": {},
   "outputs": [],
   "source": []
  },
  {
   "cell_type": "code",
   "execution_count": null,
   "metadata": {},
   "outputs": [],
   "source": []
  },
  {
   "cell_type": "code",
   "execution_count": null,
   "metadata": {},
   "outputs": [],
   "source": [
    "# tokenized_text , masked_index = replace_xx_by_MASK(text)\n",
    "# # print(tokenized_text)\n",
    "# print(' '.join(tokenized_text), masked_index)\n",
    "# segments_ids = get_segments_ids(tokenized_text)\n",
    "# print(segments_ids)\n",
    "# # Convert token to vocabulary indices\n",
    "# indexed_tokens = tokenizer.convert_tokens_to_ids(tokenized_text)\n",
    "# print(indexed_tokens)"
   ]
  },
  {
   "cell_type": "code",
   "execution_count": null,
   "metadata": {},
   "outputs": [],
   "source": [
    "# # Convert inputs to PyTorch tensors\n",
    "# tokens_tensor = torch.tensor([indexed_tokens])\n",
    "# segments_tensors = torch.tensor([segments_ids])\n",
    "# # segments_tensors"
   ]
  },
  {
   "cell_type": "code",
   "execution_count": null,
   "metadata": {},
   "outputs": [],
   "source": [
    "# # Predict all tokens\n",
    "# with torch.no_grad():\n",
    "#     outputs = model(tokens_tensor, token_type_ids=segments_tensors)\n",
    "#     predictions = outputs[0]\n",
    "# # predictions"
   ]
  },
  {
   "cell_type": "code",
   "execution_count": null,
   "metadata": {},
   "outputs": [],
   "source": [
    "# # confirm we were able to predict 'henson'\n",
    "# predicted_index = torch.argmax(predictions[0, masked_index]).item()\n",
    "# predicted_token = tokenizer.convert_ids_to_tokens([predicted_index])[0]"
   ]
  },
  {
   "cell_type": "code",
   "execution_count": null,
   "metadata": {},
   "outputs": [],
   "source": [
    "# predicted_token"
   ]
  },
  {
   "cell_type": "code",
   "execution_count": null,
   "metadata": {},
   "outputs": [],
   "source": []
  }
 ],
 "metadata": {
  "kernelspec": {
   "display_name": "Python 3",
   "language": "python",
   "name": "python3"
  },
  "language_info": {
   "codemirror_mode": {
    "name": "ipython",
    "version": 3
   },
   "file_extension": ".py",
   "mimetype": "text/x-python",
   "name": "python",
   "nbconvert_exporter": "python",
   "pygments_lexer": "ipython3",
   "version": "3.7.4"
  }
 },
 "nbformat": 4,
 "nbformat_minor": 2
}
